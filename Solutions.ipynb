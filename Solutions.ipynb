{
  "cells": [
    {
      "metadata": {
        "trusted": true
      },
      "cell_type": "code",
      "source": "from math import sqrt\nfrom itertools import takewhile, islice",
      "execution_count": 1,
      "outputs": []
    },
    {
      "metadata": {
        "trusted": true
      },
      "cell_type": "code",
      "source": "def fib():\n prev1 = 1\n prev2 = 1\n yield 1\n yield 1\n while True:\n     res = prev1 + prev2\n     yield res\n     prev2 = prev1\n     prev1 = res",
      "execution_count": 2,
      "outputs": []
    },
    {
      "metadata": {
        "trusted": true
      },
      "cell_type": "code",
      "source": "def pal(s):\n     if len(s) <= 1:\n         return True\n     else:\n         return s[0] == s[-1] and pal(s[1:-1])",
      "execution_count": 3,
      "outputs": []
    },
    {
      "metadata": {
        "trusted": true
      },
      "cell_type": "code",
      "source": "def prime_parts(x):\n    res = []\n    sr = sqrt(x)\n    for p in takewhile(lambda p: p <= sr, primes):\n     while x % p == 0:\n         x = x / p\n         res.append(p)\n         if x == 1:\n             break\n    return res",
      "execution_count": 4,
      "outputs": []
    },
    {
      "metadata": {
        "trusted": true
      },
      "cell_type": "code",
      "source": "def generate_primes(known_primes):\n    known_primes = list(known_primes)\n    if len(known_primes) == 0 or known_primes == [2]:\n        known_primes = [2, 3]\n    for p in known_primes:\n        yield p\n    x = known_primes[-1] + 2\n    while True:\n        sr = sqrt(x)\n        if all([x % y != 0 for y in takewhile(lambda p: p <= sr, known_primes)]):\n            yield x\n            known_primes.append(x)\n        x += 2",
      "execution_count": 21,
      "outputs": []
    },
    {
      "metadata": {
        "trusted": true
      },
      "cell_type": "code",
      "source": "l = []\n\nfor x in fib():\n    if x > 4000001:\n        break\n    if x % 2 == 0:\n        l.append(x)\n        \nprint(sum(l))",
      "execution_count": 6,
      "outputs": [
        {
          "output_type": "stream",
          "text": "4613732\n",
          "name": "stdout"
        }
      ]
    },
    {
      "metadata": {
        "trusted": true
      },
      "cell_type": "code",
      "source": "primes = []\n\na = 600851475143\nfor x in range(2, int(sqrt(600851475143))):\n if all([x % y != 0 for y in primes]):\n     primes.append(x)\n     while a % x == 0:\n         a = a / x\n     if a == 1:\n         break",
      "execution_count": 7,
      "outputs": []
    },
    {
      "metadata": {
        "trusted": true,
        "scrolled": false
      },
      "cell_type": "code",
      "source": "l = []\nfor x in range(999, 100, -1):\n     for y in range(999, 100, -1):\n         n = str(x*y)\n         if pal(n):\n             l.append(int(n))\nprint(max(l))",
      "execution_count": 8,
      "outputs": [
        {
          "output_type": "stream",
          "text": "906609\n",
          "name": "stdout"
        }
      ]
    },
    {
      "metadata": {
        "trusted": true
      },
      "cell_type": "code",
      "source": "l = [prime_parts(x) for x in range(1, 21)]\nprint(2**4 * 5 * 19 * 17 *9 * 7 * 13 *11)",
      "execution_count": 9,
      "outputs": [
        {
          "output_type": "stream",
          "text": "232792560\n",
          "name": "stdout"
        }
      ]
    },
    {
      "metadata": {
        "trusted": true
      },
      "cell_type": "code",
      "source": "sum(range(1, 101))**2 - sum((x ** 2 for x in range(1, 101)))",
      "execution_count": 10,
      "outputs": [
        {
          "output_type": "execute_result",
          "execution_count": 10,
          "data": {
            "text/plain": "25164150"
          },
          "metadata": {}
        }
      ]
    },
    {
      "metadata": {
        "trusted": true
      },
      "cell_type": "code",
      "source": "l = list(islice(generate_primes([]), 10001))\nprint(len(l))\nprint(l[-1])",
      "execution_count": 22,
      "outputs": [
        {
          "output_type": "stream",
          "text": "10001\n104743\n",
          "name": "stdout"
        }
      ]
    },
    {
      "metadata": {
        "trusted": true
      },
      "cell_type": "code",
      "source": "tdigit_num = \"7316717653133062491922511967442657474235534919493496983520312774506326239578318016984801869478851843858615607891129494954595017379583319528532088055111254069874715852386305071569329096329522744304355766896648950445244523161731856403098711121722383113622298934233803081353362766142828064444866452387493035890729629049156044077239071381051585930796086670172427121883998797908792274921901699720888093776657273330010533678812202354218097512545405947522435258490771167055601360483958644670632441572215539753697817977846174064955149290862569321978468622482839722413756570560574902614079729686524145351004748216637048440319989000889524345065854122758866688116427171479924442928230863465674813919123162824586178664583591245665294765456828489128831426076900422421902267105562632111110937054421750694165896040807198403850962455444362981230987879927244284909188845801561660979191338754992005240636899125607176060588611646710940507754100225698315520005593572972571636269561882670428252483600823257530420752963450\"\ndef calc_n(s):\n    res = 1\n    for c in s:\n        res *= int(c)\n    return res\n\nprint(max((calc_n(tdigit_num[i: i+13]) for i in range(len(tdigit_num) - 13))))",
      "execution_count": 24,
      "outputs": [
        {
          "output_type": "stream",
          "text": "23514624000\n",
          "name": "stdout"
        }
      ]
    },
    {
      "metadata": {
        "trusted": true
      },
      "cell_type": "code",
      "source": "1000/12",
      "execution_count": 25,
      "outputs": [
        {
          "output_type": "execute_result",
          "execution_count": 25,
          "data": {
            "text/plain": "83.33333333333333"
          },
          "metadata": {}
        }
      ]
    }
  ],
  "metadata": {
    "kernelspec": {
      "name": "python36",
      "display_name": "Python 3.6",
      "language": "python"
    },
    "language_info": {
      "mimetype": "text/x-python",
      "nbconvert_exporter": "python",
      "name": "python",
      "pygments_lexer": "ipython3",
      "version": "3.6.6",
      "file_extension": ".py",
      "codemirror_mode": {
        "version": 3,
        "name": "ipython"
      }
    }
  },
  "nbformat": 4,
  "nbformat_minor": 2
}